{
  "nbformat": 4,
  "nbformat_minor": 0,
  "metadata": {
    "colab": {
      "name": "AI_Prac_1.ipynb",
      "provenance": []
    },
    "kernelspec": {
      "name": "python3",
      "display_name": "Python 3"
    }
  },
  "cells": [
    {
      "cell_type": "code",
      "metadata": {
        "colab": {
          "base_uri": "https://localhost:8080/"
        },
        "id": "Bjnv_E3hF4LL",
        "outputId": "03d5428c-b1a3-4b73-a739-e1c6839d685d"
      },
      "source": [
        "#Calculate the probability of cancer patient and diagnostic test\r\n",
        " \r\n",
        "# calculate P(A|B) given P(A), P(B|A), P(B|not A)\r\n",
        "def bayes_theorem(p_a, p_b_given_a, p_b_given_not_a):\r\n",
        "\t# calculate P(not A)\r\n",
        "\tnot_a = 1 - p_a\r\n",
        "\t# calculate P(B)\r\n",
        "\tp_b = p_b_given_a * p_a + p_b_given_not_a * not_a\r\n",
        "\t# calculate P(A|B)\r\n",
        "\tp_a_given_b = (p_b_given_a * p_a) / p_b\r\n",
        "\treturn p_a_given_b\r\n",
        " \r\n",
        "# P(A)\r\n",
        "p_a = 0.0002\r\n",
        "# P(B|A)\r\n",
        "p_b_given_a = 0.65\r\n",
        "# P(B|not A)\r\n",
        "p_b_given_not_a = 0.05\r\n",
        "# calculate P(A|B)\r\n",
        "result = bayes_theorem(p_a, p_b_given_a, p_b_given_not_a)\r\n",
        "# summarize\r\n",
        "print('P(A|B) = %.3f%%' % (result * 100))"
      ],
      "execution_count": 2,
      "outputs": [
        {
          "output_type": "stream",
          "text": [
            "P(A|B) = 0.259%\n"
          ],
          "name": "stdout"
        }
      ]
    }
  ]
}